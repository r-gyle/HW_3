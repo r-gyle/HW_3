{
 "cells": [
  {
   "cell_type": "code",
   "execution_count": 25,
   "metadata": {},
   "outputs": [],
   "source": [
    "from IPython.display import display, Markdown\n",
    "import math\n",
    "import numpy as np\n",
    "import pandas as pd\n",
    "from sklearn.metrics.pairwise import cosine_similarity\n",
    "from scipy.spatial.distance import euclidean\n",
    "from sklearn.metrics import jaccard_score\n",
    "from sklearn.metrics.pairwise import pairwise_distances\n",
    "from sklearn.metrics import accuracy_score"
   ]
  },
  {
   "cell_type": "markdown",
   "metadata": {},
   "source": [
    "Task 1"
   ]
  },
  {
   "cell_type": "code",
   "execution_count": 2,
   "metadata": {},
   "outputs": [],
   "source": [
    "data = pd.read_csv('Data/data.csv', header=None)\n",
    "labels = pd.read_csv('Data/label.csv', header=None)"
   ]
  },
  {
   "cell_type": "code",
   "execution_count": 70,
   "metadata": {},
   "outputs": [],
   "source": [
    "class KMeans:\n",
    "    def __init__(self, k=3, similarity='euclidean', max_iters=100):\n",
    "        self.k = k\n",
    "        self.similarity = similarity\n",
    "        self.max_iters = max_iters\n",
    "        self.centroids = None\n",
    "        self.sse = None\n",
    "\n",
    "    def euclidean_distance(self, point, centroid):\n",
    "        return np.sqrt(np.sum((point - centroid)**2, axis=1))\n",
    "\n",
    "    def sse_calc(self, centroids, data, labels):\n",
    "        print(data)\n",
    "        error_sum = 0.0\n",
    "        for i, dat in enumerate(data):\n",
    "            print(i)\n",
    "            print(dat)\n",
    "            error_sum += np.sum((centroids[labels[i]] - dat)**2)\n",
    "        return error_sum\n",
    "        \n",
    "    def fit(self, X, y):\n",
    "        n_samples, n_features = X.shape\n",
    "        # Initialize centroids randomly\n",
    "        centroid_indices = np.random.choice(n_samples, self.k, replace=False)\n",
    "        self.centroids = X.iloc[centroid_indices].values\n",
    "        \n",
    "        for _ in range(self.max_iters):\n",
    "            # Assign labels based on closest centroid\n",
    "            if self.similarity == 'euclidean':\n",
    "                distances = np.array([self.euclidean_distance(X, centroid) for centroid in self.centroids])\n",
    "            elif self.similarity == 'cosine':\n",
    "                distances = np.array([1 - cosine_similarity(X, centroid.reshape(1, -1)) for centroid in self.centroids])\n",
    "            elif self.similarity == 'jaccard':\n",
    "                distances = np.array([1 - np.array([jaccard_score(X[i], centroid) for i in range(n_samples)]) for centroid in self.centroids])\n",
    "            \n",
    "            labels = np.argmin(distances, axis=0)\n",
    "            \n",
    "            # Update centroids\n",
    "            new_centroids = np.array([X[labels == i].mean(axis=0) for i in range(self.k)])\n",
    "            \n",
    "            # Check for convergence\n",
    "            if np.allclose(self.centroids, new_centroids):\n",
    "                break\n",
    "            \n",
    "            self.centroids = new_centroids\n",
    "        \n",
    "        self.labels = labels\n",
    "        \n",
    "        self.sse = self.sse_calc(self.centroids, X, y)\n",
    "\n",
    "    def predict(self, X):\n",
    "        if self.similarity == 'euclidean':\n",
    "            distances = np.array([math.dist(X, centroid) for centroid in self.centroids])\n",
    "        elif self.similarity == 'cosine':\n",
    "            distances = np.array([1 - cosine_similarity(X, centroid.reshape(1, -1)) for centroid in self.centroids])\n",
    "        elif self.similarity == 'jaccard':\n",
    "            distances = np.array([1 - np.array([jaccard_score(X, centroid) for centroid in self.centroids])])\n",
    "            \n",
    "        return np.argmin(distances, axis=0)\n",
    "\n",
    "# Example usage:\n",
    "# Assuming X is your feature matrix and y is your target variable\n",
    "# X.shape = (n_samples, n_features)\n",
    "# y.shape = (n_samples,)\n",
    "\n",
    "# # Instantiate KMeans\n",
    "# kmeans = KMeans(k=len(np.unique(y)), similarity='euclidean')\n",
    "\n",
    "# # Fit the model\n",
    "# kmeans.fit(X, y)\n",
    "\n",
    "# # Get cluster labels\n",
    "# cluster_labels = kmeans.labels\n",
    "\n",
    "# # Predict cluster for new data\n",
    "# new_data_cluster = kmeans.predict(new_data)\n"
   ]
  },
  {
   "cell_type": "code",
   "execution_count": 71,
   "metadata": {},
   "outputs": [
    {
     "name": "stdout",
     "output_type": "stream",
     "text": [
      "      0    1    2    3    4    5    6    7    8    9    ...  774  775  776  \\\n",
      "0       0    0    0    0    0    0    0    0    0    0  ...    0    0    0   \n",
      "1       0    0    0    0    0    0    0    0    0    0  ...    0    0    0   \n",
      "2       0    0    0    0    0    0    0    0    0    0  ...    0    0    0   \n",
      "3       0    0    0    0    0    0    0    0    0    0  ...    0    0    0   \n",
      "4       0    0    0    0    0    0    0    0    0    0  ...    0    0    0   \n",
      "...   ...  ...  ...  ...  ...  ...  ...  ...  ...  ...  ...  ...  ...  ...   \n",
      "9995    0    0    0    0    0    0    0    0    0    0  ...    0    0    0   \n",
      "9996    0    0    0    0    0    0    0    0    0    0  ...    0    0    0   \n",
      "9997    0    0    0    0    0    0    0    0    0    0  ...    0    0    0   \n",
      "9998    0    0    0    0    0    0    0    0    0    0  ...    0    0    0   \n",
      "9999    0    0    0    0    0    0    0    0    0    0  ...    0    0    0   \n",
      "\n",
      "      777  778  779  780  781  782  783  \n",
      "0       0    0    0    0    0    0    0  \n",
      "1       0    0    0    0    0    0    0  \n",
      "2       0    0    0    0    0    0    0  \n",
      "3       0    0    0    0    0    0    0  \n",
      "4       0    0    0    0    0    0    0  \n",
      "...   ...  ...  ...  ...  ...  ...  ...  \n",
      "9995    0    0    0    0    0    0    0  \n",
      "9996    0    0    0    0    0    0    0  \n",
      "9997    0    0    0    0    0    0    0  \n",
      "9998    0    0    0    0    0    0    0  \n",
      "9999    0    0    0    0    0    0    0  \n",
      "\n",
      "[10000 rows x 784 columns]\n",
      "0\n",
      "0\n",
      "1\n",
      "1\n"
     ]
    },
    {
     "ename": "KeyError",
     "evalue": "1",
     "output_type": "error",
     "traceback": [
      "\u001b[1;31m---------------------------------------------------------------------------\u001b[0m",
      "\u001b[1;31mKeyError\u001b[0m                                  Traceback (most recent call last)",
      "File \u001b[1;32m~\\AppData\\Local\\Packages\\PythonSoftwareFoundation.Python.3.11_qbz5n2kfra8p0\\LocalCache\\local-packages\\Python311\\site-packages\\pandas\\core\\indexes\\base.py:3805\u001b[0m, in \u001b[0;36mIndex.get_loc\u001b[1;34m(self, key)\u001b[0m\n\u001b[0;32m   3804\u001b[0m \u001b[38;5;28;01mtry\u001b[39;00m:\n\u001b[1;32m-> 3805\u001b[0m     \u001b[38;5;28;01mreturn\u001b[39;00m \u001b[38;5;28;43mself\u001b[39;49m\u001b[38;5;241;43m.\u001b[39;49m\u001b[43m_engine\u001b[49m\u001b[38;5;241;43m.\u001b[39;49m\u001b[43mget_loc\u001b[49m\u001b[43m(\u001b[49m\u001b[43mcasted_key\u001b[49m\u001b[43m)\u001b[49m\n\u001b[0;32m   3806\u001b[0m \u001b[38;5;28;01mexcept\u001b[39;00m \u001b[38;5;167;01mKeyError\u001b[39;00m \u001b[38;5;28;01mas\u001b[39;00m err:\n",
      "File \u001b[1;32mindex.pyx:167\u001b[0m, in \u001b[0;36mpandas._libs.index.IndexEngine.get_loc\u001b[1;34m()\u001b[0m\n",
      "File \u001b[1;32mindex.pyx:196\u001b[0m, in \u001b[0;36mpandas._libs.index.IndexEngine.get_loc\u001b[1;34m()\u001b[0m\n",
      "File \u001b[1;32mpandas\\\\_libs\\\\hashtable_class_helper.pxi:2606\u001b[0m, in \u001b[0;36mpandas._libs.hashtable.Int64HashTable.get_item\u001b[1;34m()\u001b[0m\n",
      "File \u001b[1;32mpandas\\\\_libs\\\\hashtable_class_helper.pxi:2630\u001b[0m, in \u001b[0;36mpandas._libs.hashtable.Int64HashTable.get_item\u001b[1;34m()\u001b[0m\n",
      "\u001b[1;31mKeyError\u001b[0m: 1",
      "\nThe above exception was the direct cause of the following exception:\n",
      "\u001b[1;31mKeyError\u001b[0m                                  Traceback (most recent call last)",
      "Cell \u001b[1;32mIn[71], line 2\u001b[0m\n\u001b[0;32m      1\u001b[0m euclidean \u001b[38;5;241m=\u001b[39m KMeans(k\u001b[38;5;241m=\u001b[39m\u001b[38;5;28mlen\u001b[39m(np\u001b[38;5;241m.\u001b[39munique(labels)), similarity\u001b[38;5;241m=\u001b[39m\u001b[38;5;124m'\u001b[39m\u001b[38;5;124meuclidean\u001b[39m\u001b[38;5;124m'\u001b[39m)\n\u001b[1;32m----> 2\u001b[0m \u001b[43meuclidean\u001b[49m\u001b[38;5;241;43m.\u001b[39;49m\u001b[43mfit\u001b[49m\u001b[43m(\u001b[49m\u001b[43mdata\u001b[49m\u001b[43m,\u001b[49m\u001b[43m \u001b[49m\u001b[43mlabels\u001b[49m\u001b[43m)\u001b[49m\n",
      "Cell \u001b[1;32mIn[70], line 49\u001b[0m, in \u001b[0;36mKMeans.fit\u001b[1;34m(self, X, y)\u001b[0m\n\u001b[0;32m     45\u001b[0m     \u001b[38;5;28mself\u001b[39m\u001b[38;5;241m.\u001b[39mcentroids \u001b[38;5;241m=\u001b[39m new_centroids\n\u001b[0;32m     47\u001b[0m \u001b[38;5;28mself\u001b[39m\u001b[38;5;241m.\u001b[39mlabels \u001b[38;5;241m=\u001b[39m labels\n\u001b[1;32m---> 49\u001b[0m \u001b[38;5;28mself\u001b[39m\u001b[38;5;241m.\u001b[39msse \u001b[38;5;241m=\u001b[39m \u001b[38;5;28;43mself\u001b[39;49m\u001b[38;5;241;43m.\u001b[39;49m\u001b[43msse_calc\u001b[49m\u001b[43m(\u001b[49m\u001b[38;5;28;43mself\u001b[39;49m\u001b[38;5;241;43m.\u001b[39;49m\u001b[43mcentroids\u001b[49m\u001b[43m,\u001b[49m\u001b[43m \u001b[49m\u001b[43mX\u001b[49m\u001b[43m,\u001b[49m\u001b[43m \u001b[49m\u001b[43my\u001b[49m\u001b[43m)\u001b[49m\n",
      "Cell \u001b[1;32mIn[70], line 18\u001b[0m, in \u001b[0;36mKMeans.sse_calc\u001b[1;34m(self, centroids, data, labels)\u001b[0m\n\u001b[0;32m     16\u001b[0m     \u001b[38;5;28mprint\u001b[39m(i)\n\u001b[0;32m     17\u001b[0m     \u001b[38;5;28mprint\u001b[39m(dat)\n\u001b[1;32m---> 18\u001b[0m     error_sum \u001b[38;5;241m+\u001b[39m\u001b[38;5;241m=\u001b[39m np\u001b[38;5;241m.\u001b[39msum((centroids[\u001b[43mlabels\u001b[49m\u001b[43m[\u001b[49m\u001b[43mi\u001b[49m\u001b[43m]\u001b[49m] \u001b[38;5;241m-\u001b[39m dat)\u001b[38;5;241m*\u001b[39m\u001b[38;5;241m*\u001b[39m\u001b[38;5;241m2\u001b[39m)\n\u001b[0;32m     19\u001b[0m \u001b[38;5;28;01mreturn\u001b[39;00m error_sum\n",
      "File \u001b[1;32m~\\AppData\\Local\\Packages\\PythonSoftwareFoundation.Python.3.11_qbz5n2kfra8p0\\LocalCache\\local-packages\\Python311\\site-packages\\pandas\\core\\frame.py:4090\u001b[0m, in \u001b[0;36mDataFrame.__getitem__\u001b[1;34m(self, key)\u001b[0m\n\u001b[0;32m   4088\u001b[0m \u001b[38;5;28;01mif\u001b[39;00m \u001b[38;5;28mself\u001b[39m\u001b[38;5;241m.\u001b[39mcolumns\u001b[38;5;241m.\u001b[39mnlevels \u001b[38;5;241m>\u001b[39m \u001b[38;5;241m1\u001b[39m:\n\u001b[0;32m   4089\u001b[0m     \u001b[38;5;28;01mreturn\u001b[39;00m \u001b[38;5;28mself\u001b[39m\u001b[38;5;241m.\u001b[39m_getitem_multilevel(key)\n\u001b[1;32m-> 4090\u001b[0m indexer \u001b[38;5;241m=\u001b[39m \u001b[38;5;28;43mself\u001b[39;49m\u001b[38;5;241;43m.\u001b[39;49m\u001b[43mcolumns\u001b[49m\u001b[38;5;241;43m.\u001b[39;49m\u001b[43mget_loc\u001b[49m\u001b[43m(\u001b[49m\u001b[43mkey\u001b[49m\u001b[43m)\u001b[49m\n\u001b[0;32m   4091\u001b[0m \u001b[38;5;28;01mif\u001b[39;00m is_integer(indexer):\n\u001b[0;32m   4092\u001b[0m     indexer \u001b[38;5;241m=\u001b[39m [indexer]\n",
      "File \u001b[1;32m~\\AppData\\Local\\Packages\\PythonSoftwareFoundation.Python.3.11_qbz5n2kfra8p0\\LocalCache\\local-packages\\Python311\\site-packages\\pandas\\core\\indexes\\base.py:3812\u001b[0m, in \u001b[0;36mIndex.get_loc\u001b[1;34m(self, key)\u001b[0m\n\u001b[0;32m   3807\u001b[0m     \u001b[38;5;28;01mif\u001b[39;00m \u001b[38;5;28misinstance\u001b[39m(casted_key, \u001b[38;5;28mslice\u001b[39m) \u001b[38;5;129;01mor\u001b[39;00m (\n\u001b[0;32m   3808\u001b[0m         \u001b[38;5;28misinstance\u001b[39m(casted_key, abc\u001b[38;5;241m.\u001b[39mIterable)\n\u001b[0;32m   3809\u001b[0m         \u001b[38;5;129;01mand\u001b[39;00m \u001b[38;5;28many\u001b[39m(\u001b[38;5;28misinstance\u001b[39m(x, \u001b[38;5;28mslice\u001b[39m) \u001b[38;5;28;01mfor\u001b[39;00m x \u001b[38;5;129;01min\u001b[39;00m casted_key)\n\u001b[0;32m   3810\u001b[0m     ):\n\u001b[0;32m   3811\u001b[0m         \u001b[38;5;28;01mraise\u001b[39;00m InvalidIndexError(key)\n\u001b[1;32m-> 3812\u001b[0m     \u001b[38;5;28;01mraise\u001b[39;00m \u001b[38;5;167;01mKeyError\u001b[39;00m(key) \u001b[38;5;28;01mfrom\u001b[39;00m \u001b[38;5;21;01merr\u001b[39;00m\n\u001b[0;32m   3813\u001b[0m \u001b[38;5;28;01mexcept\u001b[39;00m \u001b[38;5;167;01mTypeError\u001b[39;00m:\n\u001b[0;32m   3814\u001b[0m     \u001b[38;5;66;03m# If we have a listlike key, _check_indexing_error will raise\u001b[39;00m\n\u001b[0;32m   3815\u001b[0m     \u001b[38;5;66;03m#  InvalidIndexError. Otherwise we fall through and re-raise\u001b[39;00m\n\u001b[0;32m   3816\u001b[0m     \u001b[38;5;66;03m#  the TypeError.\u001b[39;00m\n\u001b[0;32m   3817\u001b[0m     \u001b[38;5;28mself\u001b[39m\u001b[38;5;241m.\u001b[39m_check_indexing_error(key)\n",
      "\u001b[1;31mKeyError\u001b[0m: 1"
     ]
    }
   ],
   "source": [
    "euclidean = KMeans(k=len(np.unique(labels)), similarity='euclidean')\n",
    "euclidean.fit(data, labels)"
   ]
  },
  {
   "cell_type": "code",
   "execution_count": 48,
   "metadata": {},
   "outputs": [
    {
     "ename": "KeyError",
     "evalue": "1",
     "output_type": "error",
     "traceback": [
      "\u001b[1;31m---------------------------------------------------------------------------\u001b[0m",
      "\u001b[1;31mKeyError\u001b[0m                                  Traceback (most recent call last)",
      "File \u001b[1;32m~\\AppData\\Local\\Packages\\PythonSoftwareFoundation.Python.3.11_qbz5n2kfra8p0\\LocalCache\\local-packages\\Python311\\site-packages\\pandas\\core\\indexes\\base.py:3805\u001b[0m, in \u001b[0;36mIndex.get_loc\u001b[1;34m(self, key)\u001b[0m\n\u001b[0;32m   3804\u001b[0m \u001b[38;5;28;01mtry\u001b[39;00m:\n\u001b[1;32m-> 3805\u001b[0m     \u001b[38;5;28;01mreturn\u001b[39;00m \u001b[38;5;28;43mself\u001b[39;49m\u001b[38;5;241;43m.\u001b[39;49m\u001b[43m_engine\u001b[49m\u001b[38;5;241;43m.\u001b[39;49m\u001b[43mget_loc\u001b[49m\u001b[43m(\u001b[49m\u001b[43mcasted_key\u001b[49m\u001b[43m)\u001b[49m\n\u001b[0;32m   3806\u001b[0m \u001b[38;5;28;01mexcept\u001b[39;00m \u001b[38;5;167;01mKeyError\u001b[39;00m \u001b[38;5;28;01mas\u001b[39;00m err:\n",
      "File \u001b[1;32mindex.pyx:167\u001b[0m, in \u001b[0;36mpandas._libs.index.IndexEngine.get_loc\u001b[1;34m()\u001b[0m\n",
      "File \u001b[1;32mindex.pyx:196\u001b[0m, in \u001b[0;36mpandas._libs.index.IndexEngine.get_loc\u001b[1;34m()\u001b[0m\n",
      "File \u001b[1;32mpandas\\\\_libs\\\\hashtable_class_helper.pxi:2606\u001b[0m, in \u001b[0;36mpandas._libs.hashtable.Int64HashTable.get_item\u001b[1;34m()\u001b[0m\n",
      "File \u001b[1;32mpandas\\\\_libs\\\\hashtable_class_helper.pxi:2630\u001b[0m, in \u001b[0;36mpandas._libs.hashtable.Int64HashTable.get_item\u001b[1;34m()\u001b[0m\n",
      "\u001b[1;31mKeyError\u001b[0m: 1",
      "\nThe above exception was the direct cause of the following exception:\n",
      "\u001b[1;31mKeyError\u001b[0m                                  Traceback (most recent call last)",
      "Cell \u001b[1;32mIn[48], line 1\u001b[0m\n\u001b[1;32m----> 1\u001b[0m sse \u001b[38;5;241m=\u001b[39m \u001b[43meuclidean\u001b[49m\u001b[38;5;241;43m.\u001b[39;49m\u001b[43msum_of_squared_errors_calc\u001b[49m\u001b[43m(\u001b[49m\u001b[43meuclidean\u001b[49m\u001b[38;5;241;43m.\u001b[39;49m\u001b[43mcentroids\u001b[49m\u001b[43m,\u001b[49m\u001b[43m \u001b[49m\u001b[43mdata\u001b[49m\u001b[43m,\u001b[49m\u001b[43m \u001b[49m\u001b[43mlabels\u001b[49m\u001b[43m)\u001b[49m\n\u001b[0;32m      2\u001b[0m sse\n",
      "Cell \u001b[1;32mIn[46], line 14\u001b[0m, in \u001b[0;36mKMeans.sum_of_squared_errors_calc\u001b[1;34m(self, centroids, data, y)\u001b[0m\n\u001b[0;32m     12\u001b[0m sum_of_errors \u001b[38;5;241m=\u001b[39m \u001b[38;5;241m0.0\u001b[39m\n\u001b[0;32m     13\u001b[0m \u001b[38;5;28;01mfor\u001b[39;00m idx, d \u001b[38;5;129;01min\u001b[39;00m \u001b[38;5;28menumerate\u001b[39m(data):\n\u001b[1;32m---> 14\u001b[0m     sum_of_errors \u001b[38;5;241m+\u001b[39m\u001b[38;5;241m=\u001b[39m np\u001b[38;5;241m.\u001b[39msum((centroids[\u001b[43my\u001b[49m\u001b[43m[\u001b[49m\u001b[43midx\u001b[49m\u001b[43m]\u001b[49m] \u001b[38;5;241m-\u001b[39m d) \u001b[38;5;241m*\u001b[39m\u001b[38;5;241m*\u001b[39m \u001b[38;5;241m2\u001b[39m)\n\u001b[0;32m     15\u001b[0m \u001b[38;5;28;01mreturn\u001b[39;00m sum_of_errors\n",
      "File \u001b[1;32m~\\AppData\\Local\\Packages\\PythonSoftwareFoundation.Python.3.11_qbz5n2kfra8p0\\LocalCache\\local-packages\\Python311\\site-packages\\pandas\\core\\frame.py:4090\u001b[0m, in \u001b[0;36mDataFrame.__getitem__\u001b[1;34m(self, key)\u001b[0m\n\u001b[0;32m   4088\u001b[0m \u001b[38;5;28;01mif\u001b[39;00m \u001b[38;5;28mself\u001b[39m\u001b[38;5;241m.\u001b[39mcolumns\u001b[38;5;241m.\u001b[39mnlevels \u001b[38;5;241m>\u001b[39m \u001b[38;5;241m1\u001b[39m:\n\u001b[0;32m   4089\u001b[0m     \u001b[38;5;28;01mreturn\u001b[39;00m \u001b[38;5;28mself\u001b[39m\u001b[38;5;241m.\u001b[39m_getitem_multilevel(key)\n\u001b[1;32m-> 4090\u001b[0m indexer \u001b[38;5;241m=\u001b[39m \u001b[38;5;28;43mself\u001b[39;49m\u001b[38;5;241;43m.\u001b[39;49m\u001b[43mcolumns\u001b[49m\u001b[38;5;241;43m.\u001b[39;49m\u001b[43mget_loc\u001b[49m\u001b[43m(\u001b[49m\u001b[43mkey\u001b[49m\u001b[43m)\u001b[49m\n\u001b[0;32m   4091\u001b[0m \u001b[38;5;28;01mif\u001b[39;00m is_integer(indexer):\n\u001b[0;32m   4092\u001b[0m     indexer \u001b[38;5;241m=\u001b[39m [indexer]\n",
      "File \u001b[1;32m~\\AppData\\Local\\Packages\\PythonSoftwareFoundation.Python.3.11_qbz5n2kfra8p0\\LocalCache\\local-packages\\Python311\\site-packages\\pandas\\core\\indexes\\base.py:3812\u001b[0m, in \u001b[0;36mIndex.get_loc\u001b[1;34m(self, key)\u001b[0m\n\u001b[0;32m   3807\u001b[0m     \u001b[38;5;28;01mif\u001b[39;00m \u001b[38;5;28misinstance\u001b[39m(casted_key, \u001b[38;5;28mslice\u001b[39m) \u001b[38;5;129;01mor\u001b[39;00m (\n\u001b[0;32m   3808\u001b[0m         \u001b[38;5;28misinstance\u001b[39m(casted_key, abc\u001b[38;5;241m.\u001b[39mIterable)\n\u001b[0;32m   3809\u001b[0m         \u001b[38;5;129;01mand\u001b[39;00m \u001b[38;5;28many\u001b[39m(\u001b[38;5;28misinstance\u001b[39m(x, \u001b[38;5;28mslice\u001b[39m) \u001b[38;5;28;01mfor\u001b[39;00m x \u001b[38;5;129;01min\u001b[39;00m casted_key)\n\u001b[0;32m   3810\u001b[0m     ):\n\u001b[0;32m   3811\u001b[0m         \u001b[38;5;28;01mraise\u001b[39;00m InvalidIndexError(key)\n\u001b[1;32m-> 3812\u001b[0m     \u001b[38;5;28;01mraise\u001b[39;00m \u001b[38;5;167;01mKeyError\u001b[39;00m(key) \u001b[38;5;28;01mfrom\u001b[39;00m \u001b[38;5;21;01merr\u001b[39;00m\n\u001b[0;32m   3813\u001b[0m \u001b[38;5;28;01mexcept\u001b[39;00m \u001b[38;5;167;01mTypeError\u001b[39;00m:\n\u001b[0;32m   3814\u001b[0m     \u001b[38;5;66;03m# If we have a listlike key, _check_indexing_error will raise\u001b[39;00m\n\u001b[0;32m   3815\u001b[0m     \u001b[38;5;66;03m#  InvalidIndexError. Otherwise we fall through and re-raise\u001b[39;00m\n\u001b[0;32m   3816\u001b[0m     \u001b[38;5;66;03m#  the TypeError.\u001b[39;00m\n\u001b[0;32m   3817\u001b[0m     \u001b[38;5;28mself\u001b[39m\u001b[38;5;241m.\u001b[39m_check_indexing_error(key)\n",
      "\u001b[1;31mKeyError\u001b[0m: 1"
     ]
    }
   ],
   "source": [
    "sse = euclidean.sse\n",
    "sse"
   ]
  },
  {
   "cell_type": "code",
   "execution_count": 41,
   "metadata": {},
   "outputs": [
    {
     "ename": "TypeError",
     "evalue": "KMeans.fit() takes 2 positional arguments but 3 were given",
     "output_type": "error",
     "traceback": [
      "\u001b[1;31m---------------------------------------------------------------------------\u001b[0m",
      "\u001b[1;31mTypeError\u001b[0m                                 Traceback (most recent call last)",
      "Cell \u001b[1;32mIn[41], line 13\u001b[0m\n\u001b[0;32m     10\u001b[0m cosine \u001b[38;5;241m=\u001b[39m KMeans(k\u001b[38;5;241m=\u001b[39m\u001b[38;5;28mlen\u001b[39m(np\u001b[38;5;241m.\u001b[39munique(labels)), similarity\u001b[38;5;241m=\u001b[39m\u001b[38;5;124m'\u001b[39m\u001b[38;5;124mcosine\u001b[39m\u001b[38;5;124m'\u001b[39m)\n\u001b[0;32m     12\u001b[0m \u001b[38;5;66;03m# Fit the model\u001b[39;00m\n\u001b[1;32m---> 13\u001b[0m \u001b[43mcosine\u001b[49m\u001b[38;5;241;43m.\u001b[39;49m\u001b[43mfit\u001b[49m\u001b[43m(\u001b[49m\u001b[43mdata\u001b[49m\u001b[43m,\u001b[49m\u001b[43m \u001b[49m\u001b[43mlabels\u001b[49m\u001b[43m)\u001b[49m\n\u001b[0;32m     15\u001b[0m \u001b[38;5;66;03m# # Get cluster labels\u001b[39;00m\n\u001b[0;32m     16\u001b[0m \u001b[38;5;66;03m# cluster_labels = kmeans.labels\u001b[39;00m\n\u001b[0;32m     17\u001b[0m \n\u001b[0;32m     18\u001b[0m \u001b[38;5;66;03m# # Predict cluster for new data\u001b[39;00m\n\u001b[0;32m     19\u001b[0m \u001b[38;5;66;03m# new_data_cluster = kmeans.predict(new_data)\u001b[39;00m\n",
      "\u001b[1;31mTypeError\u001b[0m: KMeans.fit() takes 2 positional arguments but 3 were given"
     ]
    }
   ],
   "source": [
    "# euclidean = KMeans(k=len(np.unique(labels)), similarity='euclidean')\n",
    "# euclidean.fit(data)\n",
    "\n",
    "# Get cluster labels\n",
    "# cluster_labels = euclidean.labels\n",
    "\n",
    "# Predict cluster for new data\n",
    "# new_data_cluster = euclidean.predict(new_data)\n",
    "\n",
    "cosine = KMeans(k=len(np.unique(labels)), similarity='cosine')\n",
    "\n",
    "# Fit the model\n",
    "cosine.fit(data, labels)\n",
    "\n",
    "# # Get cluster labels\n",
    "# cluster_labels = kmeans.labels\n",
    "\n",
    "# # Predict cluster for new data\n",
    "# new_data_cluster = kmeans.predict(new_data)"
   ]
  },
  {
   "cell_type": "code",
   "execution_count": 43,
   "metadata": {},
   "outputs": [
    {
     "ename": "AttributeError",
     "evalue": "'KMeans' object has no attribute 'centroids'",
     "output_type": "error",
     "traceback": [
      "\u001b[1;31m---------------------------------------------------------------------------\u001b[0m",
      "\u001b[1;31mAttributeError\u001b[0m                            Traceback (most recent call last)",
      "Cell \u001b[1;32mIn[43], line 3\u001b[0m\n\u001b[0;32m      1\u001b[0m \u001b[38;5;66;03m# def euclidean_distance(self, data_point, centroids):\u001b[39;00m\n\u001b[0;32m      2\u001b[0m \u001b[38;5;66;03m#         return np.sqrt(np.sum((centroids - data_point)**2, axis=1))\u001b[39;00m\n\u001b[1;32m----> 3\u001b[0m sse \u001b[38;5;241m=\u001b[39m cosine\u001b[38;5;241m.\u001b[39msum_of_squared_errors_calc(\u001b[43mcosine\u001b[49m\u001b[38;5;241;43m.\u001b[39;49m\u001b[43mcentroids\u001b[49m, data, labels)\n\u001b[0;32m      4\u001b[0m sse\n",
      "\u001b[1;31mAttributeError\u001b[0m: 'KMeans' object has no attribute 'centroids'"
     ]
    }
   ],
   "source": [
    "# def euclidean_distance(self, data_point, centroids):\n",
    "#         return np.sqrt(np.sum((centroids - data_point)**2, axis=1))\n",
    "sse = cosine.sum_of_squared_errors_calc(cosine.centroids, data, labels)\n",
    "sse"
   ]
  },
  {
   "cell_type": "code",
   "execution_count": 76,
   "metadata": {},
   "outputs": [],
   "source": [
    "class KMeans:\n",
    "    def __init__(self, n_clusters, similarity='euclidean', max_iter=500, tol=1e-4):\n",
    "        self.n_clusters = n_clusters\n",
    "        self.similarity = similarity\n",
    "        self.max_iter = max_iter\n",
    "        self.tol = tol\n",
    "        self.centroids = None\n",
    "    \n",
    "    def fit(self, X):\n",
    "        # Initialize centroids randomly\n",
    "        idx = np.random.choice(len(X), self.n_clusters, replace=False)\n",
    "        # self.centroids = X[idx]\n",
    "        self.centroids = X.iloc[idx].values\n",
    "        \n",
    "        for _ in range(self.max_iter):\n",
    "            # Assign each data point to the nearest centroid\n",
    "            if self.similarity == 'euclidean':\n",
    "                distances = pairwise_distances(X, self.centroids, metric='euclidean')\n",
    "            elif self.similarity == 'cosine':\n",
    "                distances = 1 - cosine_similarity(X, self.centroids)\n",
    "            elif self.similarity == 'jaccard':\n",
    "                distances = 1 - self.generalized_jaccard_similarity(X, self.centroids)\n",
    "            \n",
    "            labels = np.argmin(distances, axis=1)\n",
    "            \n",
    "            # Update centroids\n",
    "            new_centroids = np.array([X[labels == i].mean(axis=0) for i in range(self.n_clusters)])\n",
    "            \n",
    "            # Check convergence\n",
    "            if np.allclose(self.centroids, new_centroids, atol=self.tol):\n",
    "                break\n",
    "                \n",
    "            self.centroids = new_centroids\n",
    "        \n",
    "        return labels\n",
    "    \n",
    "    def generalized_jaccard_similarity(self, X, centroids):\n",
    "        intersection = np.minimum(X, centroids).sum(axis=1)\n",
    "        union = np.maximum(X, centroids).sum(axis=1)\n",
    "        return intersection / union\n",
    "\n",
    "# Function to calculate SSE\n",
    "def calculate_sse(X, labels, centroids):\n",
    "    sse = 0\n",
    "    for i in range(len(centroids)):\n",
    "        sse += np.sum((X[labels == i] - centroids[i])**2)\n",
    "    return sse\n",
    "\n",
    "# Function to assign cluster labels based on majority vote\n",
    "def assign_labels(labels, y):\n",
    "    cluster_labels = []\n",
    "    for cluster in range(len(np.unique(labels))):\n",
    "        cluster_indices = np.where(labels == cluster)[0]\n",
    "        cluster_y = y[cluster_indices]\n",
    "        unique, counts = np.unique(cluster_y, return_counts=True)\n",
    "        majority_label = unique[np.argmax(counts)]\n",
    "        cluster_labels.append(majority_label)\n",
    "    return cluster_labels\n",
    "\n",
    "# Function to compute accuracy\n",
    "def compute_accuracy(labels, y, cluster_labels):\n",
    "    pred_labels = [cluster_labels[label] for label in labels]\n",
    "    accuracy = np.mean(pred_labels == y)\n",
    "    return accuracy\n",
    "\n",
    "# Function to run K-means with different similarity measures\n",
    "def run_kmeans(X, y, K):\n",
    "    kmeans_euclidean = KMeans(n_clusters=K, similarity='euclidean')\n",
    "    labels_euclidean = kmeans_euclidean.fit(X)\n",
    "    sse_euclidean = calculate_sse(X, labels_euclidean, kmeans_euclidean.centroids)\n",
    "    cluster_labels_euclidean = assign_labels(labels_euclidean, y)\n",
    "    accuracy_euclidean = compute_accuracy(labels_euclidean, y, cluster_labels_euclidean)\n",
    "    \n",
    "    kmeans_cosine = KMeans(n_clusters=K, similarity='cosine')\n",
    "    labels_cosine = kmeans_cosine.fit(X)\n",
    "    sse_cosine = calculate_sse(X, labels_cosine, kmeans_cosine.centroids)\n",
    "    cluster_labels_cosine = assign_labels(labels_cosine, y)\n",
    "    accuracy_cosine = compute_accuracy(labels_cosine, y, cluster_labels_cosine)\n",
    "    \n",
    "    kmeans_jaccard = KMeans(n_clusters=K, similarity='jaccard')\n",
    "    labels_jaccard = kmeans_jaccard.fit(X)\n",
    "    sse_jaccard = calculate_sse(X, labels_jaccard, kmeans_jaccard.centroids)\n",
    "    cluster_labels_jaccard = assign_labels(labels_jaccard, y)\n",
    "    accuracy_jaccard = compute_accuracy(labels_jaccard, y, cluster_labels_jaccard)\n",
    "    \n",
    "    return sse_euclidean, sse_cosine, sse_jaccard, accuracy_euclidean, accuracy_cosine, accuracy_jaccard\n",
    "\n",
    "# Example usage:\n",
    "# Assuming X is your feature matrix and y is your target labels\n",
    "# sse_euclidean, sse_cosine, sse_jaccard, accuracy_euclidean, accuracy_cosine, accuracy_jaccard = run_kmeans(X, y, K)\n"
   ]
  },
  {
   "cell_type": "code",
   "execution_count": 77,
   "metadata": {},
   "outputs": [
    {
     "name": "stderr",
     "output_type": "stream",
     "text": [
      "C:\\Users\\Raghav\\AppData\\Local\\Packages\\PythonSoftwareFoundation.Python.3.11_qbz5n2kfra8p0\\LocalCache\\local-packages\\Python311\\site-packages\\numpy\\core\\fromnumeric.py:86: FutureWarning: The behavior of DataFrame.sum with axis=None is deprecated, in a future version this will reduce over both axes and return a scalar. To retain the old behavior, pass axis=0 (or do not pass axis)\n",
      "  return reduction(axis=axis, out=out, **passkwargs)\n"
     ]
    },
    {
     "ename": "KeyError",
     "evalue": "\"None of [Index([   2,    5,   14,   29,   31,   37,   39,   40,   43,   44,\\n       ...\\n       9931, 9946, 9950, 9955, 9956, 9959, 9969, 9978, 9984, 9994],\\n      dtype='int64', length=1614)] are in the [columns]\"",
     "output_type": "error",
     "traceback": [
      "\u001b[1;31m---------------------------------------------------------------------------\u001b[0m",
      "\u001b[1;31mKeyError\u001b[0m                                  Traceback (most recent call last)",
      "Cell \u001b[1;32mIn[77], line 1\u001b[0m\n\u001b[1;32m----> 1\u001b[0m \u001b[43mrun_kmeans\u001b[49m\u001b[43m(\u001b[49m\u001b[43mdata\u001b[49m\u001b[43m,\u001b[49m\u001b[43m \u001b[49m\u001b[43mlabels\u001b[49m\u001b[43m,\u001b[49m\u001b[43m \u001b[49m\u001b[43mK\u001b[49m\u001b[38;5;241;43m=\u001b[39;49m\u001b[38;5;28;43mlen\u001b[39;49m\u001b[43m(\u001b[49m\u001b[43mnp\u001b[49m\u001b[38;5;241;43m.\u001b[39;49m\u001b[43munique\u001b[49m\u001b[43m(\u001b[49m\u001b[43mlabels\u001b[49m\u001b[43m)\u001b[49m\u001b[43m)\u001b[49m\u001b[43m)\u001b[49m\n",
      "Cell \u001b[1;32mIn[76], line 71\u001b[0m, in \u001b[0;36mrun_kmeans\u001b[1;34m(X, y, K)\u001b[0m\n\u001b[0;32m     69\u001b[0m labels_euclidean \u001b[38;5;241m=\u001b[39m kmeans_euclidean\u001b[38;5;241m.\u001b[39mfit(X)\n\u001b[0;32m     70\u001b[0m sse_euclidean \u001b[38;5;241m=\u001b[39m calculate_sse(X, labels_euclidean, kmeans_euclidean\u001b[38;5;241m.\u001b[39mcentroids)\n\u001b[1;32m---> 71\u001b[0m cluster_labels_euclidean \u001b[38;5;241m=\u001b[39m \u001b[43massign_labels\u001b[49m\u001b[43m(\u001b[49m\u001b[43mlabels_euclidean\u001b[49m\u001b[43m,\u001b[49m\u001b[43m \u001b[49m\u001b[43my\u001b[49m\u001b[43m)\u001b[49m\n\u001b[0;32m     72\u001b[0m accuracy_euclidean \u001b[38;5;241m=\u001b[39m compute_accuracy(labels_euclidean, y, cluster_labels_euclidean)\n\u001b[0;32m     74\u001b[0m kmeans_cosine \u001b[38;5;241m=\u001b[39m KMeans(n_clusters\u001b[38;5;241m=\u001b[39mK, similarity\u001b[38;5;241m=\u001b[39m\u001b[38;5;124m'\u001b[39m\u001b[38;5;124mcosine\u001b[39m\u001b[38;5;124m'\u001b[39m)\n",
      "Cell \u001b[1;32mIn[76], line 54\u001b[0m, in \u001b[0;36massign_labels\u001b[1;34m(labels, y)\u001b[0m\n\u001b[0;32m     52\u001b[0m \u001b[38;5;28;01mfor\u001b[39;00m cluster \u001b[38;5;129;01min\u001b[39;00m \u001b[38;5;28mrange\u001b[39m(\u001b[38;5;28mlen\u001b[39m(np\u001b[38;5;241m.\u001b[39munique(labels))):\n\u001b[0;32m     53\u001b[0m     cluster_indices \u001b[38;5;241m=\u001b[39m np\u001b[38;5;241m.\u001b[39mwhere(labels \u001b[38;5;241m==\u001b[39m cluster)[\u001b[38;5;241m0\u001b[39m]\n\u001b[1;32m---> 54\u001b[0m     cluster_y \u001b[38;5;241m=\u001b[39m \u001b[43my\u001b[49m\u001b[43m[\u001b[49m\u001b[43mcluster_indices\u001b[49m\u001b[43m]\u001b[49m\n\u001b[0;32m     55\u001b[0m     unique, counts \u001b[38;5;241m=\u001b[39m np\u001b[38;5;241m.\u001b[39munique(cluster_y, return_counts\u001b[38;5;241m=\u001b[39m\u001b[38;5;28;01mTrue\u001b[39;00m)\n\u001b[0;32m     56\u001b[0m     majority_label \u001b[38;5;241m=\u001b[39m unique[np\u001b[38;5;241m.\u001b[39margmax(counts)]\n",
      "File \u001b[1;32m~\\AppData\\Local\\Packages\\PythonSoftwareFoundation.Python.3.11_qbz5n2kfra8p0\\LocalCache\\local-packages\\Python311\\site-packages\\pandas\\core\\frame.py:4096\u001b[0m, in \u001b[0;36mDataFrame.__getitem__\u001b[1;34m(self, key)\u001b[0m\n\u001b[0;32m   4094\u001b[0m     \u001b[38;5;28;01mif\u001b[39;00m is_iterator(key):\n\u001b[0;32m   4095\u001b[0m         key \u001b[38;5;241m=\u001b[39m \u001b[38;5;28mlist\u001b[39m(key)\n\u001b[1;32m-> 4096\u001b[0m     indexer \u001b[38;5;241m=\u001b[39m \u001b[38;5;28;43mself\u001b[39;49m\u001b[38;5;241;43m.\u001b[39;49m\u001b[43mcolumns\u001b[49m\u001b[38;5;241;43m.\u001b[39;49m\u001b[43m_get_indexer_strict\u001b[49m\u001b[43m(\u001b[49m\u001b[43mkey\u001b[49m\u001b[43m,\u001b[49m\u001b[43m \u001b[49m\u001b[38;5;124;43m\"\u001b[39;49m\u001b[38;5;124;43mcolumns\u001b[39;49m\u001b[38;5;124;43m\"\u001b[39;49m\u001b[43m)\u001b[49m[\u001b[38;5;241m1\u001b[39m]\n\u001b[0;32m   4098\u001b[0m \u001b[38;5;66;03m# take() does not accept boolean indexers\u001b[39;00m\n\u001b[0;32m   4099\u001b[0m \u001b[38;5;28;01mif\u001b[39;00m \u001b[38;5;28mgetattr\u001b[39m(indexer, \u001b[38;5;124m\"\u001b[39m\u001b[38;5;124mdtype\u001b[39m\u001b[38;5;124m\"\u001b[39m, \u001b[38;5;28;01mNone\u001b[39;00m) \u001b[38;5;241m==\u001b[39m \u001b[38;5;28mbool\u001b[39m:\n",
      "File \u001b[1;32m~\\AppData\\Local\\Packages\\PythonSoftwareFoundation.Python.3.11_qbz5n2kfra8p0\\LocalCache\\local-packages\\Python311\\site-packages\\pandas\\core\\indexes\\base.py:6200\u001b[0m, in \u001b[0;36mIndex._get_indexer_strict\u001b[1;34m(self, key, axis_name)\u001b[0m\n\u001b[0;32m   6197\u001b[0m \u001b[38;5;28;01melse\u001b[39;00m:\n\u001b[0;32m   6198\u001b[0m     keyarr, indexer, new_indexer \u001b[38;5;241m=\u001b[39m \u001b[38;5;28mself\u001b[39m\u001b[38;5;241m.\u001b[39m_reindex_non_unique(keyarr)\n\u001b[1;32m-> 6200\u001b[0m \u001b[38;5;28;43mself\u001b[39;49m\u001b[38;5;241;43m.\u001b[39;49m\u001b[43m_raise_if_missing\u001b[49m\u001b[43m(\u001b[49m\u001b[43mkeyarr\u001b[49m\u001b[43m,\u001b[49m\u001b[43m \u001b[49m\u001b[43mindexer\u001b[49m\u001b[43m,\u001b[49m\u001b[43m \u001b[49m\u001b[43maxis_name\u001b[49m\u001b[43m)\u001b[49m\n\u001b[0;32m   6202\u001b[0m keyarr \u001b[38;5;241m=\u001b[39m \u001b[38;5;28mself\u001b[39m\u001b[38;5;241m.\u001b[39mtake(indexer)\n\u001b[0;32m   6203\u001b[0m \u001b[38;5;28;01mif\u001b[39;00m \u001b[38;5;28misinstance\u001b[39m(key, Index):\n\u001b[0;32m   6204\u001b[0m     \u001b[38;5;66;03m# GH 42790 - Preserve name from an Index\u001b[39;00m\n",
      "File \u001b[1;32m~\\AppData\\Local\\Packages\\PythonSoftwareFoundation.Python.3.11_qbz5n2kfra8p0\\LocalCache\\local-packages\\Python311\\site-packages\\pandas\\core\\indexes\\base.py:6249\u001b[0m, in \u001b[0;36mIndex._raise_if_missing\u001b[1;34m(self, key, indexer, axis_name)\u001b[0m\n\u001b[0;32m   6247\u001b[0m \u001b[38;5;28;01mif\u001b[39;00m nmissing:\n\u001b[0;32m   6248\u001b[0m     \u001b[38;5;28;01mif\u001b[39;00m nmissing \u001b[38;5;241m==\u001b[39m \u001b[38;5;28mlen\u001b[39m(indexer):\n\u001b[1;32m-> 6249\u001b[0m         \u001b[38;5;28;01mraise\u001b[39;00m \u001b[38;5;167;01mKeyError\u001b[39;00m(\u001b[38;5;124mf\u001b[39m\u001b[38;5;124m\"\u001b[39m\u001b[38;5;124mNone of [\u001b[39m\u001b[38;5;132;01m{\u001b[39;00mkey\u001b[38;5;132;01m}\u001b[39;00m\u001b[38;5;124m] are in the [\u001b[39m\u001b[38;5;132;01m{\u001b[39;00maxis_name\u001b[38;5;132;01m}\u001b[39;00m\u001b[38;5;124m]\u001b[39m\u001b[38;5;124m\"\u001b[39m)\n\u001b[0;32m   6251\u001b[0m     not_found \u001b[38;5;241m=\u001b[39m \u001b[38;5;28mlist\u001b[39m(ensure_index(key)[missing_mask\u001b[38;5;241m.\u001b[39mnonzero()[\u001b[38;5;241m0\u001b[39m]]\u001b[38;5;241m.\u001b[39munique())\n\u001b[0;32m   6252\u001b[0m     \u001b[38;5;28;01mraise\u001b[39;00m \u001b[38;5;167;01mKeyError\u001b[39;00m(\u001b[38;5;124mf\u001b[39m\u001b[38;5;124m\"\u001b[39m\u001b[38;5;132;01m{\u001b[39;00mnot_found\u001b[38;5;132;01m}\u001b[39;00m\u001b[38;5;124m not in index\u001b[39m\u001b[38;5;124m\"\u001b[39m)\n",
      "\u001b[1;31mKeyError\u001b[0m: \"None of [Index([   2,    5,   14,   29,   31,   37,   39,   40,   43,   44,\\n       ...\\n       9931, 9946, 9950, 9955, 9956, 9959, 9969, 9978, 9984, 9994],\\n      dtype='int64', length=1614)] are in the [columns]\""
     ]
    }
   ],
   "source": [
    "run_kmeans(data, labels, K=len(np.unique(labels)))"
   ]
  }
 ],
 "metadata": {
  "kernelspec": {
   "display_name": "Python 3",
   "language": "python",
   "name": "python3"
  },
  "language_info": {
   "codemirror_mode": {
    "name": "ipython",
    "version": 3
   },
   "file_extension": ".py",
   "mimetype": "text/x-python",
   "name": "python",
   "nbconvert_exporter": "python",
   "pygments_lexer": "ipython3",
   "version": "3.11.8"
  }
 },
 "nbformat": 4,
 "nbformat_minor": 2
}
